{
 "cells": [
  {
   "cell_type": "code",
   "execution_count": 25,
   "id": "82743444-4d47-4092-98ab-e02feb7db7b6",
   "metadata": {},
   "outputs": [
    {
     "name": "stdout",
     "output_type": "stream",
     "text": [
      "Accident_Index                0\n",
      "Accident Date                 0\n",
      "Day_of_Week                   0\n",
      "Junction_Control              0\n",
      "Junction_Detail               0\n",
      "Accident_Severity             0\n",
      "Latitude                      0\n",
      "Light_Conditions              0\n",
      "Local_Authority_(District)    0\n",
      "Carriageway_Hazards           0\n",
      "Longitude                     0\n",
      "Number_of_Casualties          0\n",
      "Number_of_Vehicles            0\n",
      "Police_Force                  0\n",
      "Road_Surface_Conditions       0\n",
      "Road_Type                     0\n",
      "Speed_limit                   0\n",
      "Time                          0\n",
      "Urban_or_Rural_Area           0\n",
      "Weather_Conditions            0\n",
      "Vehicle_Type                  0\n",
      "dtype: int64\n"
     ]
    }
   ],
   "source": [
    "import pandas as pd\n",
    "import numpy as np \n",
    "df =pd.read_csv('Road Accident Data.csv')\n",
    "\n",
    "# print (df.describe)\n",
    "# print (df.isna().sum())\n",
    "df['Carriageway_Hazards']=df['Carriageway_Hazards'].fillna('No Hazzard')\n",
    "# # # df['Road_Surface_Conditions']=df.groupby(['Local_Authority_(District)','Accident Date'])['Road_Surface_Conditions'].transform(lambda x: x.fillna(x.mean()))\n",
    "# # # df['Road_Surface_Conditions'] = df.groupby(['Local_Authority_(District)', 'Accident Date'])['Road_Surface_Conditions'].transform(lambda x: x.fillna(x.mode().iloc[0] if not x.mode().empty else None))\n",
    "df['Road_Surface_Conditions'] = df.groupby(['Local_Authority_(District)', 'Accident Date'])['Road_Surface_Conditions'].transform(lambda x: x.fillna(x.mode().iloc[0] if not x.mode().empty else x.iloc[0]))\n",
    "df['Road_Surface_Conditions'] = df.groupby(['Police_Force', 'Accident Date'])['Road_Surface_Conditions'].transform(lambda x: x.fillna(x.mode().iloc[0] if not x.mode().empty else x.iloc[0]))\n",
    "df['Road_Type'] = df.groupby(['Local_Authority_(District)', 'Urban_or_Rural_Area'])['Road_Surface_Conditions'].transform(lambda x: x.fillna(x.mode().iloc[0] if not x.mode().empty else x.iloc[0]))\n",
    "\n",
    "def fill_time(row):\n",
    "    if row['Light_Conditions'] == 'light':\n",
    "        return '07:00 - 17:00'\n",
    "    else :\n",
    "        return '17:01 - 06:59'\n",
    "\n",
    "df['Time'] = df.apply(fill_time, axis=1)\n",
    "\n",
    "df['Weather_Conditions'] = df.groupby(['Local_Authority_(District)', 'Accident Date'])['Weather_Conditions'].transform(lambda x: x.fillna(x.mode().iloc[0] if not x.mode().empty else x.iloc[0]))\n",
    "df['Weather_Conditions'] = df.groupby(['Police_Force', 'Accident Date'])['Weather_Conditions'].transform(lambda x: x.fillna(x.mode().iloc[0] if not x.mode().empty else x.iloc[0]))\n",
    "df['Weather_Conditions']=df['Weather_Conditions'].fillna('Others')\n",
    "df = df.drop_duplicates()\n",
    "df.to_csv('cleaned_data.csv', index=False)\n",
    "\n",
    "print (df.isna().sum())\n",
    "# print (df.describe)"
   ]
  },
  {
   "cell_type": "code",
   "execution_count": null,
   "id": "db3b5de0-8aed-41ec-9f3e-22a4a7c70f44",
   "metadata": {},
   "outputs": [],
   "source": []
  }
 ],
 "metadata": {
  "kernelspec": {
   "display_name": "Python 3 (ipykernel)",
   "language": "python",
   "name": "python3"
  },
  "language_info": {
   "codemirror_mode": {
    "name": "ipython",
    "version": 3
   },
   "file_extension": ".py",
   "mimetype": "text/x-python",
   "name": "python",
   "nbconvert_exporter": "python",
   "pygments_lexer": "ipython3",
   "version": "3.10.5"
  }
 },
 "nbformat": 4,
 "nbformat_minor": 5
}
